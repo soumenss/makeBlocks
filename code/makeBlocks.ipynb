{
 "cells": [
  {
   "cell_type": "code",
   "execution_count": 1,
   "metadata": {},
   "outputs": [],
   "source": [
    "import numpy as np\n",
    "import cv2\n",
    "from PIL import Image\n",
    "import math\n",
    "import os\n",
    "import glob"
   ]
  },
  {
   "cell_type": "code",
   "execution_count": null,
   "metadata": {},
   "outputs": [],
   "source": [
    "folder='F:/takeImage/'\n",
    "savingfolder='E:/temp/blocked/'\n",
    "imList=glob.glob(folder+'*.jpg')\n",
    "\n",
    "blocksize = 256\n",
    "\n",
    "#img = Image.open('E:/temp/_MG_0524-01.jpeg')\n",
    "n = 0\n",
    "\n",
    "for imgname in imList:\n",
    "    img = Image.open(imgname)\n",
    "    (row, col) = img.size\n",
    "    r = math.floor(row/blocksize)\n",
    "    c = math.floor(col/blocksize)\n",
    "\n",
    "    for i in range(r):\n",
    "        up = i*blocksize\n",
    "        for j in range(c):\n",
    "            left = j*blocksize\n",
    "            box=(left, up, left+blocksize, up+blocksize)\n",
    "            crop = img.crop(box)\n",
    "            n = n+1\n",
    "            filename =savingfolder + str(n) + '.jpg'\n",
    "            crop.save(filename)"
   ]
  },
  {
   "cell_type": "code",
   "execution_count": null,
   "metadata": {},
   "outputs": [],
   "source": []
  }
 ],
 "metadata": {
  "kernelspec": {
   "display_name": "Python 3",
   "language": "python",
   "name": "python3"
  },
  "language_info": {
   "codemirror_mode": {
    "name": "ipython",
    "version": 3
   },
   "file_extension": ".py",
   "mimetype": "text/x-python",
   "name": "python",
   "nbconvert_exporter": "python",
   "pygments_lexer": "ipython3",
   "version": "3.5.4"
  }
 },
 "nbformat": 4,
 "nbformat_minor": 2
}
